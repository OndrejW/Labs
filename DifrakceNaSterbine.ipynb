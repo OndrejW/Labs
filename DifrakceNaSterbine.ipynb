{
 "cells": [
  {
   "cell_type": "markdown",
   "metadata": {},
   "source": [
    "# Difrakce na štěrbině"
   ]
  },
  {
   "cell_type": "markdown",
   "metadata": {},
   "source": [
    "Toto cvičení se bude věnovat vlnové povaze světla a to konkrétně difrakčním jevům na apertuře."
   ]
  },
  {
   "cell_type": "markdown",
   "metadata": {},
   "source": [
    "## Teorie"
   ]
  },
  {
   "cell_type": "markdown",
   "metadata": {},
   "source": [
    "Tady zkusíme napsat něco o Fraunhoferově difrakci a defakto o Fourierově transformaci.\n",
    "\n",
    "$I = \\mathrm{sinc} \\frac{\\pi w z}{\\lambda L}$"
   ]
  },
  {
   "cell_type": "code",
   "execution_count": 15,
   "metadata": {},
   "outputs": [
    {
     "data": {
      "application/vnd.jupyter.widget-view+json": {
       "model_id": "58a2a2a6ee264ca288c61eb4c11e4672",
       "version_major": 2,
       "version_minor": 0
      },
      "text/plain": [
       "interactive(children=(IntSlider(value=630, description='usedlambda', max=700, min=400, step=10), IntSlider(val…"
      ]
     },
     "metadata": {},
     "output_type": "display_data"
    }
   ],
   "source": [
    "from __future__ import print_function\n",
    "from ipywidgets import interact, interactive, fixed, interact_manual\n",
    "import ipywidgets as widgets\n",
    "import numpy as np\n",
    "import matplotlib.pyplot as plt\n",
    "\n",
    "\n",
    "@interact(usedlambda=widgets.IntSlider(min=400, max=700, step=10, value=630), w=widgets.IntSlider(min=1, max=20, step=1, value=5), L=widgets.IntSlider(min=10, max=1000, step=1, value=100))\n",
    "def intensity(usedlambda, w, L):\n",
    "    usedlambda = usedlambda*1e-9\n",
    "    w = w*1e-6\n",
    "    L = L*1e-3\n",
    "    x = np.linspace(0,40e-3,1000)\n",
    "    I = (np.sinc(np.pi*w*x/(usedlambda*L)))**2\n",
    "    plt.plot(x*1e3, I);\n",
    "    plt.xlabel('x (mm)');\n",
    "    plt.ylabel('Norm. intenzita ()');\n",
    "    plt.show()\n",
    "    return();"
   ]
  },
  {
   "cell_type": "markdown",
   "metadata": {},
   "source": [
    "Tento vztah popisuje vývoj intenzity v závislosti na vzdálenosti středu difrakčního obrazce. Zadáním toho protokolu je pouze zjistit velikost vyrobené apertury, proto můžeme využít řadu aproximací\n",
    "\n",
    "$w = \\frac{m L \\lambda}{x}$\n",
    "\n",
    "Z vztahu plyne, že pro výpočet potřebujeme znát vlnovou délku světla, řád maxima, jeho vzdálenost od středu obrazce a vzdálenost apertury od stínítka. \n",
    "\n",
    "Nyní provedeme experiment...\n",
    "\n",
    "Fotku difrakčního obrazce nahrajeme do programu ImageJ. Jako první si naměříme data konstantu pro převod pixelů na délku v rovině stínítka (neuvažujeme optické vady a různá zkreslení). Ve druhém kroku rozdělíme obraz na tři vlnové délky(RGB kanály) a pro každý kanál extrahujeme intenzitu podél čary od středu a naměříme polohu minim. Pro toto zpracování můžeme použít konzoli Pythonu níže, popřípadě jiný programovací jazyk, nebo tabulkový procesor (excel, OpenOffice Calc)."
   ]
  },
  {
   "cell_type": "code",
   "execution_count": 2,
   "metadata": {},
   "outputs": [
    {
     "name": "stdout",
     "output_type": "stream",
     "text": [
      "Prvni minimum je ve vzdalenossti:  11.52542372881356 mm\n",
      "Druhe minimum je ve vzdalenossti:  23.2015065913371 mm\n",
      "Treti minimum je ve vzdalenossti:  36.911487758945384 mm\n",
      "Vysledky pro cervenou\n",
      "Sirka sterbiny pri vyhodnoceni prvniho minima je:  7.669045588235295  um\n",
      "Sirka sterbiny pri vyhodnoceni druheho minima je:  6.972859687500001  um\n",
      "Sirka sterbiny pri vyhodnoceni druheho minima je:  6.3555579642857145  um\n"
     ]
    }
   ],
   "source": [
    "pxNaM = 531/40e-3\n",
    "\n",
    "usedLambda = 630e-9 # vlnova delka cervenho svetla v nm\n",
    "# Namerene vzdalenosti v pixelech\n",
    "vzdalenost1minPx = 153\n",
    "vzdalenost2minPx = 308\n",
    "vzdalenost3minPx = 490\n",
    "# atd...\n",
    "\n",
    "def prevodPxNaM(px, pxNaM):\n",
    "    vzdalenostVm = px/pxNaM #Zde doplnte vzorec pro prevod\n",
    "    return(vzdalenostVm)\n",
    "\n",
    "#Prevod na m\n",
    "vzdalenost1minM = prevodPxNaM(vzdalenost1minPx, pxNaM)\n",
    "vzdalenost2minM = prevodPxNaM(vzdalenost2minPx, pxNaM)\n",
    "vzdalenost3minM = prevodPxNaM(vzdalenost3minPx, pxNaM)\n",
    "# atd...\n",
    "\n",
    "\n",
    "# Vypsani\n",
    "print('Prvni minimum je ve vzdalenossti: ',vzdalenost1minM*1e3,'mm')\n",
    "print('Druhe minimum je ve vzdalenossti: ',vzdalenost2minM*1e3,'mm')\n",
    "print('Treti minimum je ve vzdalenossti: ',vzdalenost3minM*1e3,'mm')\n",
    "# atd...\n",
    "\n",
    "# Vypocet velikosti sterbiny\n",
    "L = 115e-3 #Vzdalenost sterbiny od stinitka (m)\n",
    "\n",
    "print('Vysledky pro cervenou')\n",
    "w1 = 1.220*usedLambda*L/vzdalenost1minM #prvni maximum\n",
    "print('Sirka sterbiny pri vyhodnoceni prvniho minima je: ',w1*1e6,' um')\n",
    "w2 = 2.233*usedLambda*L/vzdalenost2minM #druhe maximum\n",
    "print('Sirka sterbiny pri vyhodnoceni druheho minima je: ',w2*1e6,' um')\n",
    "w3 = 3.238*usedLambda*L/vzdalenost3minM #druhe maximum\n",
    "print('Sirka sterbiny pri vyhodnoceni druheho minima je: ',w3*1e6,' um')\n",
    "# atd...\n"
   ]
  }
 ],
 "metadata": {
  "kernelspec": {
   "display_name": "Python 3",
   "language": "python",
   "name": "python3"
  },
  "language_info": {
   "codemirror_mode": {
    "name": "ipython",
    "version": 3
   },
   "file_extension": ".py",
   "mimetype": "text/x-python",
   "name": "python",
   "nbconvert_exporter": "python",
   "pygments_lexer": "ipython3",
   "version": "3.7.4"
  }
 },
 "nbformat": 4,
 "nbformat_minor": 2
}
