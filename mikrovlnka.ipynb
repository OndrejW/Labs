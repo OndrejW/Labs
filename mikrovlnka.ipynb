{
 "cells": [
  {
   "cell_type": "markdown",
   "metadata": {},
   "source": [
    "<b><center style=\"color: red\">Pro správnou funkčnost všech widgetů klikněte na Kernel>Restart & Run all</center></b>\n",
    "\n",
    "# Měření rychlosti světla s pomocí tabulky čokolády a mikrovlnky\n",
    "\n",
    "Značnou část fyziky lze popsat pomocí tří teorií: gravitace, kvantové a relativity. Každá z těchto má jednu ústřední konstantu a to gravitační, Planckovu a rychlost světla. První jmenovanou můžeme snadno vypočíst při znalosti hmotnosti země a měření zrychlení předmětů ve volném pádu. Díky tomu že známe velikost Planckovy konstanty, můžete například číst tento text, nebo rozsvítit bodové LED. V tomto cvičení budeme ovšem měřit poslední konstantu a to rychlost světla.\n",
    "\n",
    "## Vlna\n",
    "Vlnou ve fyzice nazýváme jakékoliv řešení následující diferenciální rovnice:\n",
    "\n",
    "$\\frac{1}{c^2}\\frac{\\partial^2\\psi}{\\partial t^2}=\\frac{\\partial^2\\psi}{\\partial x^2}$\n",
    "\n",
    "V případě elektro-magnetismu můžeme tuto rovnici odvodit z tzv. Maxwellových rovnic (např. [zde](https://en.wikipedia.org/wiki/Electromagnetic_wave_equation))\n",
    "\n",
    "Nejčastěji se setkáváme s řešením ve formě takzvané harmonické vlny.\n",
    "\n",
    "$\\psi = A \\exp{ i (\\vec{k} \\vec{r} + \\omega  t + \\phi_0)}$\n",
    "\n",
    "Můžeme si všimnout, že tato rovnice má komplexní tvar. Když chceme vypočítat měřitelnou veličinu (intenzitu) musíme vzít absolutní hodnotu, kterou v případě komplexních čísel vypočítáme následovně\n",
    "\n",
    "$I = \\psi \\psi^*$,\n",
    "\n",
    "kde $^*$ značí komplexně sdružené číslo.\n",
    "\n",
    "### Frekvence a vlnová délka\n",
    "Tyto dvě veličiny jsou pevně svázané takzvanou disperzní relací, která říká, jaké frekvence můžou nastat na dané vlnové délce. V případě elektromagnetické vlny ve vakuu je disperzní relace lineární. Její derivace je rovna tzv. rychlosti vlny. V případě elektromagnetických vln je toto rychlost světla. Pokud předchozí věty vyjádříme matematicky, dostaneme\n",
    "\n",
    "$f = \\frac{c}{\\lambda}$,\n",
    "\n",
    "kde $c$ označuje právě rychlost vlnění, a $\\lambda$ je daná vlnová délka."
   ]
  },
  {
   "cell_type": "code",
   "execution_count": 5,
   "metadata": {},
   "outputs": [
    {
     "data": {
      "image/png": "[encoded data removed]",
      "text/plain": [
       "<Figure size 432x288 with 1 Axes>"
      ]
     },
     "metadata": {
      "needs_background": "light"
     },
     "output_type": "display_data"
    }
   ],
   "source": [
    "    import matplotlib.pyplot as plt\n",
    "    plt.rcParams.update({'font.size': 12})\n",
    "    import numpy as np\n",
    "\n",
    "    lambda1 = np.logspace(-7,10,200)\n",
    "    c = 299792458 #m/s\n",
    "    plt.loglog(lambda1, c/lambda1);\n",
    "    plt.xlabel('lambda (m)');\n",
    "    plt.ylabel('Frekvence (Hz)');\n",
    "    plt.show()"
   ]
  },
  {
   "cell_type": "markdown",
   "metadata": {},
   "source": [
    "## Součet dvou vln\n",
    "Teorie šíření elektromagnetických vln je lineární, z čehož plyne, že když se v prostředí šíří více než jedna vlna tak platí princip superpozice. Tento fakt znamená, že abychom našli výslednou intenzitu, musíme sečíst příspěvky od všech vln, které v tomto místě mají nenulovou amplitudu. Následující applet počítá intenzitu vzniklou sečtením dvou protichůdných vln. Prosím vyzkoušejte si jak změna jednotlivých parametrů ovlivní výslednou intenzitu a její chování v čase."
   ]
  },
  {
   "cell_type": "code",
   "execution_count": 13,
   "metadata": {
    "scrolled": false
   },
   "outputs": [
    {
     "data": {
      "application/vnd.jupyter.widget-view+json": {
       "model_id": "0fb7312c1e294cd0b28fe7f25d3d3a7b",
       "version_major": 2,
       "version_minor": 0
      },
      "text/plain": [
       "interactive(children=(IntSlider(value=10, description='lambda1 (cm)', max=20, min=5), FloatSlider(value=0.5, d…"
      ]
     },
     "metadata": {},
     "output_type": "display_data"
    }
   ],
   "source": [
    "from __future__ import print_function\n",
    "from ipywidgets import interact, interactive, fixed, interact_manual\n",
    "import ipywidgets as widgets\n",
    "\n",
    "@interact(lambda1=widgets.IntSlider(min=5, max=20, step=1, value=10, description='lambda1 (cm)'), amp1=widgets.FloatSlider(min=0, max=1, step=0.1, value=0.5, description='amp ()'), phi1=widgets.FloatSlider(min=0, max=2*np.pi, step=0.2, value=0, description='Faze1 (rad)'), lambda2=widgets.FloatSlider(min=5, max=20, step=1, value=10, description='lambda2 (cm)'), amp2=widgets.FloatSlider(min=0, max=1, step=0.1, value=0.5, description='amp2 ()'), cas=widgets.FloatSlider(min=0, max=10, step=0.5, value=0, description='Cas (us)'))\n",
    "def intensity(lambda1, amp1, phi1, lambda2, amp2, cas):\n",
    "    lambda1 = lambda1*1e-2\n",
    "    lambda2 = lambda2*1e-2\n",
    "    phi2 = 0\n",
    "    delka = 0.5\n",
    "    cas = cas*1e-6\n",
    "    x = np.linspace(0,delka,200)\n",
    "    c = 299792458  #m/s\n",
    "    w1 = 2*np.pi*c/lambda1\n",
    "    print('Frekvence vlny 1 je: % 3.2f GHz' %(w1*1e-9/2/np.pi))\n",
    "    w2 = 2*np.pi*c/lambda2\n",
    "    print('Frekvence vlny 2 je: % 3.2f GHz' %(w2*1e-9/2/np.pi))\n",
    "    Psi1 = amp1*np.exp(1j*(2*np.pi/lambda1*x + w1*cas + phi1))\n",
    "    Psi2 = amp2*np.exp(1j*(2*np.pi/lambda2*(-x) + w2*cas + phi2))\n",
    "    plt.plot(x, abs(((Psi1 + Psi2)*np.conj(Psi1 + Psi2))))\n",
    "    plt.xlabel('x (m)');\n",
    "    plt.ylabel('Intenzita ()');\n",
    "    plt.show()\n",
    "    return();"
   ]
  },
  {
   "cell_type": "markdown",
   "metadata": {},
   "source": [
    "## Stojaté vlnění\n",
    "Možná jste si všimli, že pokud zvolíme stejnou vlnovou délku pro obě vlny ($\\lambda_1 = \\lambda_2$), intenzita se v čase nemění. Přesně tato podmínka je splněna např. v mikrovlnné troubě. Následující applet dovoluje měnit pouze ty parametry, aby stále byla zachována podmínka pro stojaté vlnění."
   ]
  },
  {
   "cell_type": "code",
   "execution_count": 3,
   "metadata": {},
   "outputs": [
    {
     "data": {
      "application/vnd.jupyter.widget-view+json": {
       "model_id": "b285a8a8c74f49e4addf72375c60fa6e",
       "version_major": 2,
       "version_minor": 0
      },
      "text/plain": [
       "interactive(children=(IntSlider(value=10, description='\\\\lambda (cm)', max=20, min=5), FloatSlider(value=0.5, …"
      ]
     },
     "metadata": {},
     "output_type": "display_data"
    }
   ],
   "source": [
    "@interact(lambda1=widgets.IntSlider(min=5, max=20, step=1, value=10, description='\\lambda (cm)'), amp=widgets.FloatSlider(min=0, max=1, step=0.1, value=0.5, description='amp ()'), phi=widgets.FloatSlider(min=0, max=2*np.pi, step=0.2, value=0, description='Faze (rad)'), cas=widgets.FloatSlider(min=0, max=10, step=0.5, value=0, description='Cas (us)'))\n",
    "def intensity(lambda1, amp, phi, cas):\n",
    "    lambda1 = lambda1*1e-2\n",
    "    delka = 0.5\n",
    "    cas = cas*1e-6\n",
    "    x = np.linspace(0,delka,200)\n",
    "    c = 299792458  #m/s\n",
    "    w1 = 2*np.pi*c/lambda1\n",
    "    print('Frekvence vlny je: % 3.2f GHz' %(w1*1e-9/2/np.pi))\n",
    "    w2 = 2*np.pi*c/lambda1\n",
    "    Psi1 = amp*np.exp(1j*(2*np.pi/lambda1*x + w1*cas + phi))\n",
    "    Psi2 = amp*np.exp(1j*(2*np.pi/lambda1*(-x) + w2*cas))\n",
    "    plt.plot(x, abs(((Psi1 + Psi2)*np.conj(Psi1 + Psi2))));\n",
    "    plt.xlabel('x (m)');\n",
    "    plt.ylabel('Intenzita ()');\n",
    "    plt.show();\n",
    "    return();"
   ]
  },
  {
   "cell_type": "markdown",
   "metadata": {},
   "source": [
    "Vidíme, že ikdyž měníme všechny ostatní parametry, tak vzdálenost mezi maximy intenzity zůstává stále konstantní. V těchto místech je i lokálně nejvyšší dodaná energie. Tohoto využijeme pro měření vlnové délky mikrovlného vlnění, protože jídlo (nebo v podstatě cokoliv co dáte do mikrovlnné trouby) se nejrychleji zahřeje právě v místech těchto kmiten (nejvyšší intenzity). Více o principu mikrovlnky je v následujícím videu."
   ]
  },
  {
   "cell_type": "code",
   "execution_count": 4,
   "metadata": {},
   "outputs": [
    {
     "data": {
      "image/jpeg": "[encoded data removed]",
      "text/html": [
       "\n",
       "        <iframe\n",
       "            width=\"400\"\n",
       "            height=\"300\"\n",
       "            src=\"https://www.youtube.com/embed/kp33ZprO0Ck\"\n",
       "            frameborder=\"0\"\n",
       "            allowfullscreen\n",
       "        ></iframe>\n",
       "        "
      ],
      "text/plain": [
       "<IPython.lib.display.YouTubeVideo at 0x1f8d2d08d88>"
      ]
     },
     "execution_count": 4,
     "metadata": {},
     "output_type": "execute_result"
    }
   ],
   "source": [
    "from IPython.display import YouTubeVideo\n",
    "YouTubeVideo('kp33ZprO0Ck')"
   ]
  },
  {
   "cell_type": "markdown",
   "metadata": {},
   "source": [
    "# Zadání experimentu a postup\n",
    "\n",
    "## Zadání\n",
    "1. Využijte představené teorie a experimentálně nalezněte rychlost světla. \n",
    "2. Pořiďte fotografii talíře s čokoládou a pravítka těsně po ohřevu a vložte ji do protokolu.\n",
    "2. Porovnejte experimentálně získanou hodnotu se známou hodnotou rychlosti světla. \n",
    "3. Odhadněte původ chyby měření.\n",
    "\n",
    "### K provedení experimentu budeme potřebovat:\n",
    "- čokoláda ca. 30g,  bez příchutí (čím hořčejší, tím lepší -- zkuste v protokolu zdůvodnit, proč to tak je)\n",
    "- struhadlo\n",
    "- lžíce\n",
    "- talíř \n",
    "- mikrovlnnou troubu\n",
    "- návod od mikrovlnní trouby (někdy stačí i její štítek)\n",
    "- pravítko\n",
    "- stojan na čokoládu vhodný do mikrovlnné trouby\n",
    "\n",
    "**Varování: Ujistěte se pomocí návodu k obsluze mikrovlnky, že všechny předměty, které do mikrovlnky budete vkládat, v ní skutečně můžou být!**\n",
    "\n",
    "### Postup:\n",
    "1. V návodu mikrovlnné trouby nebo na jejím štítku nalezneme hodnotu její operační frekvence.\n",
    "2. Z mikrovlnné trouby vybereme moduly které umožňují otáčení jídla při ohřevu. Je-li to nemožné, ujistíme se, že máme možnost umístit talíř dovnitř mikrovlnky bez toho, aby se při ohřívání jakkoliv pohyboval.\n",
    "3. Čokoládu nastrouháme a co nejrovnoměji pomocí lžičky rozprostřeme po povrchu talíře.\n",
    "4. Umístíme talíř s čokoládou do mikrovlnky na nehybný stojan. \n",
    "5. Talíř s čokoládu na stojanu necháme ohřívat - pro 83% čokoládu jsme použili ohřívání s výkonem 700 W po dobu 30 s.\n",
    "6. Po ohřívání talíř s čokoládou vyndáme z mikrovlnky a na čokoládě určíme středy míst, kde se začala topit. Tyto místa budou odpovídat místům s nejvyšší dodanou energií. Fotografii talíře s pravítkem pořídíme co nejrychleji, jinak se může začat postupně topit i další okolí čokolády a výsledky budou zkreslené.\n",
    "\n",
    "*Tip: jestliže se experiment napoprvé nepodaří, zkuste změnit výšku, ve které se čokoláda nachází - nám nejlépe fungovalo umístit čokoládu výš než vlnovod, který přenáší vlny ze zdroje dovnitř mikrovlnky.*"
   ]
  }
 ],
 "metadata": {
  "kernelspec": {
   "display_name": "Python 3",
   "language": "python",
   "name": "python3"
  },
  "language_info": {
   "codemirror_mode": {
    "name": "ipython",
    "version": 3
   },
   "file_extension": ".py",
   "mimetype": "text/x-python",
   "name": "python",
   "nbconvert_exporter": "python",
   "pygments_lexer": "ipython3",
   "version": "3.7.4"
  },
  "widgets": {
   "application/vnd.jupyter.widget-state+json": {
    "state": {
     "01e0f5761a88443fbad2c844f9a2d24f": {
      "model_module": "@jupyter-widgets/controls",
      "model_module_version": "1.5.0",
      "model_name": "FloatSliderModel",
      "state": {
       "description": "Cas (us)",
       "layout": "IPY_MODEL_b39cd41a3c1b4a97a580d2d6e07409a8",
       "max": 10,
       "step": 0.5,
       "style": "IPY_MODEL_d86bfe5d98bf4cb4ba3602adbe0987df"
      }
     },
     "02e500cc0ccd42a89dd50984ddf98597": {
      "model_module": "@jupyter-widgets/controls",
      "model_module_version": "1.5.0",
      "model_name": "FloatSliderModel",
      "state": {
       "description": "amp2 ()",
       "layout": "IPY_MODEL_d3b2502b9dcb460e8a48368b9be26124",
       "max": 1,
       "step": 0.1,
       "style": "IPY_MODEL_5b871ca36179434889df6f71a57de7d1",
       "value": 0.5
      }
     },
     "02fd1257352e4b54a57439aa80466484": {
      "model_module": "@jupyter-widgets/controls",
      "model_module_version": "1.5.0",
      "model_name": "SliderStyleModel",
      "state": {
       "description_width": ""
      }
     },
     "039ffd1a9e554771a5946464c767a3af": {
      "model_module": "@jupyter-widgets/base",
      "model_module_version": "1.2.0",
      "model_name": "LayoutModel",
      "state": {}
     },
     "09dfdd4bbf124215bf766846ca428c36": {
      "model_module": "@jupyter-widgets/controls",
      "model_module_version": "1.5.0",
      "model_name": "VBoxModel",
      "state": {
       "_dom_classes": [
        "widget-interact"
       ],
       "children": [
        "IPY_MODEL_680b8bb82db147178812cef984055257",
        "IPY_MODEL_72af5514693c4d2f9f3c06dafdd63294",
        "IPY_MODEL_ce5c66dae3c94ee0a0be022e40326f53",
        "IPY_MODEL_50652861171b418dbc0688738927ada3",
        "IPY_MODEL_02e500cc0ccd42a89dd50984ddf98597",
        "IPY_MODEL_01e0f5761a88443fbad2c844f9a2d24f",
        "IPY_MODEL_cf866393cb8042189da0508aea8368a4"
       ],
       "layout": "IPY_MODEL_422f10b33a6d4d94adc3abfe514b71f4"
      }
     },
     "09e59f87e97a45608740d58f12b6b0e5": {
      "model_module": "@jupyter-widgets/controls",
      "model_module_version": "1.5.0",
      "model_name": "FloatSliderModel",
      "state": {
       "description": "Faze1 (rad)",
       "layout": "IPY_MODEL_72d26d4c061248e0896fc848de277c31",
       "max": 6.283185307179586,
       "step": 0.2,
       "style": "IPY_MODEL_9a1ced74e8804e3e87df5145b5f476da"
      }
     },
     "0bf92d3d10d54eb6b158e516adff4f4f": {
      "model_module": "@jupyter-widgets/base",
      "model_module_version": "1.2.0",
      "model_name": "LayoutModel",
      "state": {}
     },
     "0dfbaf66c7f14d1ab20f1e6fb37ecd98": {
      "model_module": "@jupyter-widgets/controls",
      "model_module_version": "1.5.0",
      "model_name": "SliderStyleModel",
      "state": {
       "description_width": ""
      }
     },
     "0ee2a73b3fb84d768c346eb82c1aeef8": {
      "model_module": "@jupyter-widgets/base",
      "model_module_version": "1.2.0",
      "model_name": "LayoutModel",
      "state": {}
     },
     "10950e22095442adbd8ac93518f826b7": {
      "model_module": "@jupyter-widgets/controls",
      "model_module_version": "1.5.0",
      "model_name": "SliderStyleModel",
      "state": {
       "description_width": ""
      }
     },
     "122047e4313f4ec187730f4d8f79c62d": {
      "model_module": "@jupyter-widgets/base",
      "model_module_version": "1.2.0",
      "model_name": "LayoutModel",
      "state": {}
     },
     "12260ea4971949c886fb1d54c43fface": {
      "model_module": "@jupyter-widgets/base",
      "model_module_version": "1.2.0",
      "model_name": "LayoutModel",
      "state": {}
     },
     "128a7fad0b974ea6a59ba0326d6c0bac": {
      "model_module": "@jupyter-widgets/controls",
      "model_module_version": "1.5.0",
      "model_name": "FloatSliderModel",
      "state": {
       "description": "Cas (us)",
       "layout": "IPY_MODEL_401e772e94af4c88896e5ad0de40cb3c",
       "max": 10,
       "step": 0.5,
       "style": "IPY_MODEL_8ad0b36fcc574e22a85bb70f1fa7bde0"
      }
     },
     "12b3fd71efcb427b9f47fde4aafbbddc": {
      "model_module": "@jupyter-widgets/controls",
      "model_module_version": "1.5.0",
      "model_name": "FloatSliderModel",
      "state": {
       "description": "Faze (rad)",
       "layout": "IPY_MODEL_1705ef1cd2b74493aa5b789c8fc1b485",
       "max": 6.283185307179586,
       "step": 0.2,
       "style": "IPY_MODEL_d74399a428fd447196e4becf13678eaa"
      }
     },
     "1351f6a2a1e34ad983247395cd5ac9d9": {
      "model_module": "@jupyter-widgets/base",
      "model_module_version": "1.2.0",
      "model_name": "LayoutModel",
      "state": {}
     },
     "1532a24dabc64517b9b3be559983a576": {
      "model_module": "@jupyter-widgets/controls",
      "model_module_version": "1.5.0",
      "model_name": "SliderStyleModel",
      "state": {
       "description_width": ""
      }
     },
     "1705ef1cd2b74493aa5b789c8fc1b485": {
      "model_module": "@jupyter-widgets/base",
      "model_module_version": "1.2.0",
      "model_name": "LayoutModel",
      "state": {}
     },
     "1745f403059749029dcebccacc8ff175": {
      "model_module": "@jupyter-widgets/output",
      "model_module_version": "1.0.0",
      "model_name": "OutputModel",
      "state": {
       "layout": "IPY_MODEL_490e3b9688a04279841923effe7aac1f",
       "outputs": [
        {
         "name": "stdout",
         "output_type": "stream",
         "text": "Frekvence vlny je:  3.00 GHz\n"
        },
        {
         "data": {
          "image/png": "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\n",
          "text/plain": "<Figure size 432x288 with 1 Axes>"
         },
         "metadata": {
          "needs_background": "light"
         },
         "output_type": "display_data"
        },
        {
         "data": {
          "text/plain": "()"
         },
         "metadata": {},
         "output_type": "display_data"
        }
       ]
      }
     },
     "1a8b4c3b690d46f79f5ed19ed98dc66d": {
      "model_module": "@jupyter-widgets/base",
      "model_module_version": "1.2.0",
      "model_name": "LayoutModel",
      "state": {}
     },
     "1fbf800fdcde4300b5f3a86857c9465f": {
      "model_module": "@jupyter-widgets/base",
      "model_module_version": "1.2.0",
      "model_name": "LayoutModel",
      "state": {}
     },
     "229b9a93a0d540998e0bd3a4f118f2a4": {
      "model_module": "@jupyter-widgets/controls",
      "model_module_version": "1.5.0",
      "model_name": "IntSliderModel",
      "state": {
       "description": "\\lambda (cm)",
       "layout": "IPY_MODEL_86756144394047c9bbe00db2ec8719d5",
       "max": 20,
       "min": 5,
       "style": "IPY_MODEL_10950e22095442adbd8ac93518f826b7",
       "value": 10
      }
     },
     "262c19394fc54e50883d20b1df0a709e": {
      "model_module": "@jupyter-widgets/controls",
      "model_module_version": "1.5.0",
      "model_name": "SliderStyleModel",
      "state": {
       "description_width": ""
      }
     },
     "26b6613af96e4760bfb4e77579a908af": {
      "model_module": "@jupyter-widgets/base",
      "model_module_version": "1.2.0",
      "model_name": "LayoutModel",
      "state": {}
     },
     "28406b8860964c24b187a16001116bc9": {
      "model_module": "@jupyter-widgets/controls",
      "model_module_version": "1.5.0",
      "model_name": "SliderStyleModel",
      "state": {
       "description_width": ""
      }
     },
     "2a5fc0f1ea614a1faaa77e2160c8d14a": {
      "model_module": "@jupyter-widgets/controls",
      "model_module_version": "1.5.0",
      "model_name": "SliderStyleModel",
      "state": {
       "description_width": ""
      }
     },
     "2a854139ea8444c5ba4633d68d51637b": {
      "model_module": "@jupyter-widgets/controls",
      "model_module_version": "1.5.0",
      "model_name": "SliderStyleModel",
      "state": {
       "description_width": ""
      }
     },
     "304e1691712a46aaa8afd0505d5c092f": {
      "model_module": "@jupyter-widgets/controls",
      "model_module_version": "1.5.0",
      "model_name": "FloatSliderModel",
      "state": {
       "description": "Cas (us)",
       "layout": "IPY_MODEL_d66cb11b71f748d98e91d810c10c66c4",
       "max": 10,
       "step": 0.5,
       "style": "IPY_MODEL_c722af13e187495e8663886ac62bb726"
      }
     },
     "33174451b1864eaf90685aa6a43f78fd": {
      "model_module": "@jupyter-widgets/base",
      "model_module_version": "1.2.0",
      "model_name": "LayoutModel",
      "state": {}
     },
     "33d7cf25cfb94b1e966fcfb128f60aac": {
      "model_module": "@jupyter-widgets/base",
      "model_module_version": "1.2.0",
      "model_name": "LayoutModel",
      "state": {}
     },
     "34bbbb513437457baad615894c63582b": {
      "model_module": "@jupyter-widgets/controls",
      "model_module_version": "1.5.0",
      "model_name": "SliderStyleModel",
      "state": {
       "description_width": ""
      }
     },
     "34f31c5bd1ef4485a6862427a097200a": {
      "model_module": "@jupyter-widgets/base",
      "model_module_version": "1.2.0",
      "model_name": "LayoutModel",
      "state": {}
     },
     "377ca376cfe5417db3e9687e32ee7e53": {
      "model_module": "@jupyter-widgets/controls",
      "model_module_version": "1.5.0",
      "model_name": "FloatSliderModel",
      "state": {
       "description": "amp2 ()",
       "layout": "IPY_MODEL_0bf92d3d10d54eb6b158e516adff4f4f",
       "max": 1,
       "step": 0.1,
       "style": "IPY_MODEL_2a5fc0f1ea614a1faaa77e2160c8d14a",
       "value": 0.5
      }
     },
     "401e772e94af4c88896e5ad0de40cb3c": {
      "model_module": "@jupyter-widgets/base",
      "model_module_version": "1.2.0",
      "model_name": "LayoutModel",
      "state": {}
     },
     "422f10b33a6d4d94adc3abfe514b71f4": {
      "model_module": "@jupyter-widgets/base",
      "model_module_version": "1.2.0",
      "model_name": "LayoutModel",
      "state": {}
     },
     "44eaba860d51453d89175a70c8ee4053": {
      "model_module": "@jupyter-widgets/base",
      "model_module_version": "1.2.0",
      "model_name": "LayoutModel",
      "state": {}
     },
     "45d94be0fe6b4ed8af0ff1d97b44f5f8": {
      "model_module": "@jupyter-widgets/controls",
      "model_module_version": "1.5.0",
      "model_name": "VBoxModel",
      "state": {
       "_dom_classes": [
        "widget-interact"
       ],
       "children": [
        "IPY_MODEL_229b9a93a0d540998e0bd3a4f118f2a4",
        "IPY_MODEL_c256b061d5ac408e824ef5020c0db685",
        "IPY_MODEL_12b3fd71efcb427b9f47fde4aafbbddc",
        "IPY_MODEL_cb1730e043e64248911b4664185664e1",
        "IPY_MODEL_1745f403059749029dcebccacc8ff175"
       ],
       "layout": "IPY_MODEL_b657c83de3584f7eaa6514fc4baac03c"
      }
     },
     "490e3b9688a04279841923effe7aac1f": {
      "model_module": "@jupyter-widgets/base",
      "model_module_version": "1.2.0",
      "model_name": "LayoutModel",
      "state": {}
     },
     "4f966ad1e7c14f3e82f748effbe9bd44": {
      "model_module": "@jupyter-widgets/controls",
      "model_module_version": "1.5.0",
      "model_name": "FloatSliderModel",
      "state": {
       "description": "lambda2 (cm)",
       "layout": "IPY_MODEL_89c5b2f81df34552adc4fb694713aedc",
       "max": 20,
       "min": 5,
       "style": "IPY_MODEL_9c8dccd7d9384fe0989526bba9f31b83",
       "value": 10
      }
     },
     "50652861171b418dbc0688738927ada3": {
      "model_module": "@jupyter-widgets/controls",
      "model_module_version": "1.5.0",
      "model_name": "FloatSliderModel",
      "state": {
       "description": "lambda2 (cm)",
       "layout": "IPY_MODEL_7de6b68b55fb4e83a4c1a15c93a58f9c",
       "max": 20,
       "min": 5,
       "style": "IPY_MODEL_262c19394fc54e50883d20b1df0a709e",
       "value": 10
      }
     },
     "51cc09e6ee0d4fb3b1d50aa516cf66dd": {
      "model_module": "@jupyter-widgets/controls",
      "model_module_version": "1.5.0",
      "model_name": "SliderStyleModel",
      "state": {
       "description_width": ""
      }
     },
     "54907e878adf46cd965437919ee618a3": {
      "model_module": "@jupyter-widgets/controls",
      "model_module_version": "1.5.0",
      "model_name": "FloatSliderModel",
      "state": {
       "description": "amp ()",
       "layout": "IPY_MODEL_039ffd1a9e554771a5946464c767a3af",
       "max": 1,
       "step": 0.1,
       "style": "IPY_MODEL_7cc01f2f8b804216bd0d09a781f15945",
       "value": 0.5
      }
     },
     "5b871ca36179434889df6f71a57de7d1": {
      "model_module": "@jupyter-widgets/controls",
      "model_module_version": "1.5.0",
      "model_name": "SliderStyleModel",
      "state": {
       "description_width": ""
      }
     },
     "5b971a2259b0487184bc631ad88e0316": {
      "model_module": "@jupyter-widgets/controls",
      "model_module_version": "1.5.0",
      "model_name": "FloatSliderModel",
      "state": {
       "description": "Cas (us)",
       "layout": "IPY_MODEL_61d4d2c2e291404da66fc900aca0460d",
       "max": 10,
       "step": 0.5,
       "style": "IPY_MODEL_be8a1a1775ce4743b19abb5ad2bdb249"
      }
     },
     "5de78362f7ec419cb185d80418430b33": {
      "model_module": "@jupyter-widgets/controls",
      "model_module_version": "1.5.0",
      "model_name": "FloatSliderModel",
      "state": {
       "description": "lambda2 (cm)",
       "layout": "IPY_MODEL_1a8b4c3b690d46f79f5ed19ed98dc66d",
       "max": 20,
       "min": 5,
       "style": "IPY_MODEL_8f95d03bc4ee4e74b2af42d8e84cefcb",
       "value": 10
      }
     },
     "61d4d2c2e291404da66fc900aca0460d": {
      "model_module": "@jupyter-widgets/base",
      "model_module_version": "1.2.0",
      "model_name": "LayoutModel",
      "state": {}
     },
     "630b99f563cb40ea86690853960bb480": {
      "model_module": "@jupyter-widgets/controls",
      "model_module_version": "1.5.0",
      "model_name": "FloatSliderModel",
      "state": {
       "description": "amp ()",
       "layout": "IPY_MODEL_b63e45d1d731426191ce124dc83c7863",
       "max": 1,
       "step": 0.1,
       "style": "IPY_MODEL_69a7419f6294418ebcff8fac7637af35",
       "value": 0.5
      }
     },
     "647ef268fe3446e1973f0db6f07e8ac7": {
      "model_module": "@jupyter-widgets/controls",
      "model_module_version": "1.5.0",
      "model_name": "SliderStyleModel",
      "state": {
       "description_width": ""
      }
     },
     "652d1b3b639c4deca9505a8c8d02e63c": {
      "model_module": "@jupyter-widgets/output",
      "model_module_version": "1.0.0",
      "model_name": "OutputModel",
      "state": {
       "layout": "IPY_MODEL_c66a316c31b64b43a965454ed5198696",
       "outputs": [
        {
         "name": "stdout",
         "output_type": "stream",
         "text": "Frekvence vlny je:  3.00 GHz\n"
        },
        {
         "data": {
          "image/png": "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\n",
          "text/plain": "<Figure size 432x288 with 1 Axes>"
         },
         "metadata": {
          "needs_background": "light"
         },
         "output_type": "display_data"
        },
        {
         "data": {
          "text/plain": "()"
         },
         "metadata": {},
         "output_type": "display_data"
        }
       ]
      }
     },
     "6647b2f57a174966be8b528218590b2a": {
      "model_module": "@jupyter-widgets/controls",
      "model_module_version": "1.5.0",
      "model_name": "SliderStyleModel",
      "state": {
       "description_width": ""
      }
     },
     "66f46790f3fa44ca889e746a9165d279": {
      "model_module": "@jupyter-widgets/controls",
      "model_module_version": "1.5.0",
      "model_name": "SliderStyleModel",
      "state": {
       "description_width": ""
      }
     },
     "6734e4fd85dd4851850aafdf1f540d40": {
      "model_module": "@jupyter-widgets/controls",
      "model_module_version": "1.5.0",
      "model_name": "SliderStyleModel",
      "state": {
       "description_width": ""
      }
     },
     "680b8bb82db147178812cef984055257": {
      "model_module": "@jupyter-widgets/controls",
      "model_module_version": "1.5.0",
      "model_name": "IntSliderModel",
      "state": {
       "description": "lambda1 (cm)",
       "layout": "IPY_MODEL_33d7cf25cfb94b1e966fcfb128f60aac",
       "max": 20,
       "min": 5,
       "style": "IPY_MODEL_647ef268fe3446e1973f0db6f07e8ac7",
       "value": 10
      }
     },
     "68df16330304488e92272685b752f366": {
      "model_module": "@jupyter-widgets/base",
      "model_module_version": "1.2.0",
      "model_name": "LayoutModel",
      "state": {}
     },
     "69a7419f6294418ebcff8fac7637af35": {
      "model_module": "@jupyter-widgets/controls",
      "model_module_version": "1.5.0",
      "model_name": "SliderStyleModel",
      "state": {
       "description_width": ""
      }
     },
     "6fa5d11f15454e8bb4fd5ec50c382670": {
      "model_module": "@jupyter-widgets/output",
      "model_module_version": "1.0.0",
      "model_name": "OutputModel",
      "state": {
       "layout": "IPY_MODEL_44eaba860d51453d89175a70c8ee4053",
       "outputs": [
        {
         "name": "stdout",
         "output_type": "stream",
         "text": "Frekvence vlny 1 je:  3.00 GHz\nFrekvence vlny 2 je:  3.00 GHz\n"
        },
        {
         "data": {
          "image/png": "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\n",
          "text/plain": "<Figure size 432x288 with 1 Axes>"
         },
         "metadata": {
          "needs_background": "light"
         },
         "output_type": "display_data"
        },
        {
         "data": {
          "text/plain": "()"
         },
         "metadata": {},
         "output_type": "display_data"
        }
       ]
      }
     },
     "6fe0db07bf674245a6b96ea207874a61": {
      "model_module": "@jupyter-widgets/base",
      "model_module_version": "1.2.0",
      "model_name": "LayoutModel",
      "state": {}
     },
     "702c495c3bab4f5db485634df53d8f45": {
      "model_module": "@jupyter-widgets/controls",
      "model_module_version": "1.5.0",
      "model_name": "VBoxModel",
      "state": {
       "_dom_classes": [
        "widget-interact"
       ],
       "children": [
        "IPY_MODEL_8734dd16b356438ab3385024b3637ad7",
        "IPY_MODEL_630b99f563cb40ea86690853960bb480",
        "IPY_MODEL_09e59f87e97a45608740d58f12b6b0e5",
        "IPY_MODEL_5de78362f7ec419cb185d80418430b33",
        "IPY_MODEL_7a569325d0bf4db19a9f01134a60b816",
        "IPY_MODEL_5b971a2259b0487184bc631ad88e0316",
        "IPY_MODEL_6fa5d11f15454e8bb4fd5ec50c382670"
       ],
       "layout": "IPY_MODEL_68df16330304488e92272685b752f366"
      }
     },
     "72af5514693c4d2f9f3c06dafdd63294": {
      "model_module": "@jupyter-widgets/controls",
      "model_module_version": "1.5.0",
      "model_name": "FloatSliderModel",
      "state": {
       "description": "amp ()",
       "layout": "IPY_MODEL_ce22ac6f4e804aa98e66893990da32fd",
       "max": 1,
       "step": 0.1,
       "style": "IPY_MODEL_9a176e1cb5c44594956e6db19786ad66",
       "value": 0.5
      }
     },
     "72d26d4c061248e0896fc848de277c31": {
      "model_module": "@jupyter-widgets/base",
      "model_module_version": "1.2.0",
      "model_name": "LayoutModel",
      "state": {}
     },
     "747c3142773040eda1dcb804e63c5242": {
      "model_module": "@jupyter-widgets/output",
      "model_module_version": "1.0.0",
      "model_name": "OutputModel",
      "state": {
       "layout": "IPY_MODEL_fad05a599481468089eefc4624113e3a",
       "outputs": [
        {
         "name": "stdout",
         "output_type": "stream",
         "text": "Frekvence vlny 1 je:  3.00 GHz\nFrekvence vlny 2 je:  3.00 GHz\n"
        },
        {
         "data": {
          "image/png": "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\n",
          "text/plain": "<Figure size 432x288 with 1 Axes>"
         },
         "metadata": {
          "needs_background": "light"
         },
         "output_type": "display_data"
        },
        {
         "data": {
          "text/plain": "()"
         },
         "metadata": {},
         "output_type": "display_data"
        }
       ]
      }
     },
     "750f716d216c4c4187ead6ab0255572b": {
      "model_module": "@jupyter-widgets/base",
      "model_module_version": "1.2.0",
      "model_name": "LayoutModel",
      "state": {}
     },
     "7a569325d0bf4db19a9f01134a60b816": {
      "model_module": "@jupyter-widgets/controls",
      "model_module_version": "1.5.0",
      "model_name": "FloatSliderModel",
      "state": {
       "description": "amp2 ()",
       "layout": "IPY_MODEL_12260ea4971949c886fb1d54c43fface",
       "max": 1,
       "step": 0.1,
       "style": "IPY_MODEL_34bbbb513437457baad615894c63582b",
       "value": 0.5
      }
     },
     "7cc01f2f8b804216bd0d09a781f15945": {
      "model_module": "@jupyter-widgets/controls",
      "model_module_version": "1.5.0",
      "model_name": "SliderStyleModel",
      "state": {
       "description_width": ""
      }
     },
     "7de6b68b55fb4e83a4c1a15c93a58f9c": {
      "model_module": "@jupyter-widgets/base",
      "model_module_version": "1.2.0",
      "model_name": "LayoutModel",
      "state": {}
     },
     "8069794695ae434e9085ccaf70f910bd": {
      "model_module": "@jupyter-widgets/controls",
      "model_module_version": "1.5.0",
      "model_name": "VBoxModel",
      "state": {
       "_dom_classes": [
        "widget-interact"
       ],
       "children": [
        "IPY_MODEL_a23c72b1f93c497e99bfc1f8c54699df",
        "IPY_MODEL_54907e878adf46cd965437919ee618a3",
        "IPY_MODEL_9af5c629774b4f44a678bd3112246bb9",
        "IPY_MODEL_4f966ad1e7c14f3e82f748effbe9bd44",
        "IPY_MODEL_377ca376cfe5417db3e9687e32ee7e53",
        "IPY_MODEL_304e1691712a46aaa8afd0505d5c092f",
        "IPY_MODEL_747c3142773040eda1dcb804e63c5242"
       ],
       "layout": "IPY_MODEL_1351f6a2a1e34ad983247395cd5ac9d9"
      }
     },
     "818fe70beb23489395cf4c5536b220ff": {
      "model_module": "@jupyter-widgets/controls",
      "model_module_version": "1.5.0",
      "model_name": "FloatSliderModel",
      "state": {
       "description": "Faze (rad)",
       "layout": "IPY_MODEL_d553215f5d794cd49233b38ed97aab37",
       "max": 6.283185307179586,
       "step": 0.2,
       "style": "IPY_MODEL_02fd1257352e4b54a57439aa80466484"
      }
     },
     "852bc7f230344ff298a50829a6e92e72": {
      "model_module": "@jupyter-widgets/controls",
      "model_module_version": "1.5.0",
      "model_name": "SliderStyleModel",
      "state": {
       "description_width": ""
      }
     },
     "86756144394047c9bbe00db2ec8719d5": {
      "model_module": "@jupyter-widgets/base",
      "model_module_version": "1.2.0",
      "model_name": "LayoutModel",
      "state": {}
     },
     "8734dd16b356438ab3385024b3637ad7": {
      "model_module": "@jupyter-widgets/controls",
      "model_module_version": "1.5.0",
      "model_name": "IntSliderModel",
      "state": {
       "description": "lambda1 (cm)",
       "layout": "IPY_MODEL_c119d66f5fbd4e5382def3a3e5cbfb7d",
       "max": 20,
       "min": 5,
       "style": "IPY_MODEL_852bc7f230344ff298a50829a6e92e72",
       "value": 10
      }
     },
     "89c2acfdf26c457284a4cfa46cf81bb8": {
      "model_module": "@jupyter-widgets/base",
      "model_module_version": "1.2.0",
      "model_name": "LayoutModel",
      "state": {}
     },
     "89c5b2f81df34552adc4fb694713aedc": {
      "model_module": "@jupyter-widgets/base",
      "model_module_version": "1.2.0",
      "model_name": "LayoutModel",
      "state": {}
     },
     "8a65a68c75c843b9a5b0bc02a1750b16": {
      "model_module": "@jupyter-widgets/controls",
      "model_module_version": "1.5.0",
      "model_name": "VBoxModel",
      "state": {
       "_dom_classes": [
        "widget-interact"
       ],
       "children": [
        "IPY_MODEL_d6b5283f6c5144df9c7256cac5fba327",
        "IPY_MODEL_a92ea3de281b4bbd855b39fc34bd7850",
        "IPY_MODEL_818fe70beb23489395cf4c5536b220ff",
        "IPY_MODEL_128a7fad0b974ea6a59ba0326d6c0bac",
        "IPY_MODEL_d5277b3942804ffb8a4dfb3f468066fd"
       ],
       "layout": "IPY_MODEL_750f716d216c4c4187ead6ab0255572b"
      }
     },
     "8ad0b36fcc574e22a85bb70f1fa7bde0": {
      "model_module": "@jupyter-widgets/controls",
      "model_module_version": "1.5.0",
      "model_name": "SliderStyleModel",
      "state": {
       "description_width": ""
      }
     },
     "8cc0158e38d6408991bf40df4794f22e": {
      "model_module": "@jupyter-widgets/controls",
      "model_module_version": "1.5.0",
      "model_name": "SliderStyleModel",
      "state": {
       "description_width": ""
      }
     },
     "8f95d03bc4ee4e74b2af42d8e84cefcb": {
      "model_module": "@jupyter-widgets/controls",
      "model_module_version": "1.5.0",
      "model_name": "SliderStyleModel",
      "state": {
       "description_width": ""
      }
     },
     "92e64adac7d749429f881072d7e54ab0": {
      "model_module": "@jupyter-widgets/base",
      "model_module_version": "1.2.0",
      "model_name": "LayoutModel",
      "state": {}
     },
     "9a176e1cb5c44594956e6db19786ad66": {
      "model_module": "@jupyter-widgets/controls",
      "model_module_version": "1.5.0",
      "model_name": "SliderStyleModel",
      "state": {
       "description_width": ""
      }
     },
     "9a1ced74e8804e3e87df5145b5f476da": {
      "model_module": "@jupyter-widgets/controls",
      "model_module_version": "1.5.0",
      "model_name": "SliderStyleModel",
      "state": {
       "description_width": ""
      }
     },
     "9af5c629774b4f44a678bd3112246bb9": {
      "model_module": "@jupyter-widgets/controls",
      "model_module_version": "1.5.0",
      "model_name": "FloatSliderModel",
      "state": {
       "description": "Faze1 (rad)",
       "layout": "IPY_MODEL_89c2acfdf26c457284a4cfa46cf81bb8",
       "max": 6.283185307179586,
       "step": 0.2,
       "style": "IPY_MODEL_2a854139ea8444c5ba4633d68d51637b"
      }
     },
     "9c8dccd7d9384fe0989526bba9f31b83": {
      "model_module": "@jupyter-widgets/controls",
      "model_module_version": "1.5.0",
      "model_name": "SliderStyleModel",
      "state": {
       "description_width": ""
      }
     },
     "a23c72b1f93c497e99bfc1f8c54699df": {
      "model_module": "@jupyter-widgets/controls",
      "model_module_version": "1.5.0",
      "model_name": "IntSliderModel",
      "state": {
       "description": "lambda1 (cm)",
       "layout": "IPY_MODEL_1fbf800fdcde4300b5f3a86857c9465f",
       "max": 20,
       "min": 5,
       "style": "IPY_MODEL_dffb9dc68dc94e4eaafc4a87e38d4994",
       "value": 10
      }
     },
     "a47d8e8aa9a34466987fdba6ee63d71b": {
      "model_module": "@jupyter-widgets/controls",
      "model_module_version": "1.5.0",
      "model_name": "FloatSliderModel",
      "state": {
       "description": "Cas (us)",
       "layout": "IPY_MODEL_f0420885422e42849c2c53cd1d55b7ea",
       "max": 10,
       "step": 0.5,
       "style": "IPY_MODEL_6734e4fd85dd4851850aafdf1f540d40"
      }
     },
     "a92ea3de281b4bbd855b39fc34bd7850": {
      "model_module": "@jupyter-widgets/controls",
      "model_module_version": "1.5.0",
      "model_name": "FloatSliderModel",
      "state": {
       "description": "amp ()",
       "layout": "IPY_MODEL_26b6613af96e4760bfb4e77579a908af",
       "max": 1,
       "step": 0.1,
       "style": "IPY_MODEL_eac2547b4ed94980b28f6a6dd519a085",
       "value": 0.5
      }
     },
     "b39cd41a3c1b4a97a580d2d6e07409a8": {
      "model_module": "@jupyter-widgets/base",
      "model_module_version": "1.2.0",
      "model_name": "LayoutModel",
      "state": {}
     },
     "b63e45d1d731426191ce124dc83c7863": {
      "model_module": "@jupyter-widgets/base",
      "model_module_version": "1.2.0",
      "model_name": "LayoutModel",
      "state": {}
     },
     "b657c83de3584f7eaa6514fc4baac03c": {
      "model_module": "@jupyter-widgets/base",
      "model_module_version": "1.2.0",
      "model_name": "LayoutModel",
      "state": {}
     },
     "be8a1a1775ce4743b19abb5ad2bdb249": {
      "model_module": "@jupyter-widgets/controls",
      "model_module_version": "1.5.0",
      "model_name": "SliderStyleModel",
      "state": {
       "description_width": ""
      }
     },
     "c119d66f5fbd4e5382def3a3e5cbfb7d": {
      "model_module": "@jupyter-widgets/base",
      "model_module_version": "1.2.0",
      "model_name": "LayoutModel",
      "state": {}
     },
     "c1201b566e2045599f14e7bc422f84f6": {
      "model_module": "@jupyter-widgets/controls",
      "model_module_version": "1.5.0",
      "model_name": "FloatSliderModel",
      "state": {
       "description": "Faze (rad)",
       "layout": "IPY_MODEL_f6eca51ca4cc4f81aca366f2268fbef2",
       "max": 6.283185307179586,
       "step": 0.2,
       "style": "IPY_MODEL_1532a24dabc64517b9b3be559983a576"
      }
     },
     "c256b061d5ac408e824ef5020c0db685": {
      "model_module": "@jupyter-widgets/controls",
      "model_module_version": "1.5.0",
      "model_name": "FloatSliderModel",
      "state": {
       "description": "amp ()",
       "layout": "IPY_MODEL_0ee2a73b3fb84d768c346eb82c1aeef8",
       "max": 1,
       "step": 0.1,
       "style": "IPY_MODEL_66f46790f3fa44ca889e746a9165d279",
       "value": 0.5
      }
     },
     "c66a316c31b64b43a965454ed5198696": {
      "model_module": "@jupyter-widgets/base",
      "model_module_version": "1.2.0",
      "model_name": "LayoutModel",
      "state": {}
     },
     "c722af13e187495e8663886ac62bb726": {
      "model_module": "@jupyter-widgets/controls",
      "model_module_version": "1.5.0",
      "model_name": "SliderStyleModel",
      "state": {
       "description_width": ""
      }
     },
     "cb1730e043e64248911b4664185664e1": {
      "model_module": "@jupyter-widgets/controls",
      "model_module_version": "1.5.0",
      "model_name": "FloatSliderModel",
      "state": {
       "description": "Cas (us)",
       "layout": "IPY_MODEL_122047e4313f4ec187730f4d8f79c62d",
       "max": 10,
       "step": 0.5,
       "style": "IPY_MODEL_28406b8860964c24b187a16001116bc9"
      }
     },
     "cc3672341ffa4b32a49d2240f58345a0": {
      "model_module": "@jupyter-widgets/base",
      "model_module_version": "1.2.0",
      "model_name": "LayoutModel",
      "state": {}
     },
     "ce22ac6f4e804aa98e66893990da32fd": {
      "model_module": "@jupyter-widgets/base",
      "model_module_version": "1.2.0",
      "model_name": "LayoutModel",
      "state": {}
     },
     "ce5c66dae3c94ee0a0be022e40326f53": {
      "model_module": "@jupyter-widgets/controls",
      "model_module_version": "1.5.0",
      "model_name": "FloatSliderModel",
      "state": {
       "description": "Faze1 (rad)",
       "layout": "IPY_MODEL_34f31c5bd1ef4485a6862427a097200a",
       "max": 6.283185307179586,
       "step": 0.2,
       "style": "IPY_MODEL_0dfbaf66c7f14d1ab20f1e6fb37ecd98"
      }
     },
     "cf866393cb8042189da0508aea8368a4": {
      "model_module": "@jupyter-widgets/output",
      "model_module_version": "1.0.0",
      "model_name": "OutputModel",
      "state": {
       "layout": "IPY_MODEL_cc3672341ffa4b32a49d2240f58345a0",
       "outputs": [
        {
         "name": "stdout",
         "output_type": "stream",
         "text": "Frekvence vlny 1 je:  3.00 GHz\nFrekvence vlny 2 je:  3.00 GHz\n"
        },
        {
         "data": {
          "image/png": "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\n",
          "text/plain": "<Figure size 432x288 with 1 Axes>"
         },
         "metadata": {
          "needs_background": "light"
         },
         "output_type": "display_data"
        },
        {
         "data": {
          "text/plain": "()"
         },
         "metadata": {},
         "output_type": "display_data"
        }
       ]
      }
     },
     "d3b2502b9dcb460e8a48368b9be26124": {
      "model_module": "@jupyter-widgets/base",
      "model_module_version": "1.2.0",
      "model_name": "LayoutModel",
      "state": {}
     },
     "d5277b3942804ffb8a4dfb3f468066fd": {
      "model_module": "@jupyter-widgets/output",
      "model_module_version": "1.0.0",
      "model_name": "OutputModel",
      "state": {
       "layout": "IPY_MODEL_da263f2e10ff44aca257dc3b40e8b510",
       "outputs": [
        {
         "name": "stdout",
         "output_type": "stream",
         "text": "Frekvence vlny je:  3.00 GHz\n"
        },
        {
         "data": {
          "image/png": "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\n",
          "text/plain": "<Figure size 432x288 with 1 Axes>"
         },
         "metadata": {
          "needs_background": "light"
         },
         "output_type": "display_data"
        },
        {
         "data": {
          "text/plain": "()"
         },
         "metadata": {},
         "output_type": "display_data"
        }
       ]
      }
     },
     "d553215f5d794cd49233b38ed97aab37": {
      "model_module": "@jupyter-widgets/base",
      "model_module_version": "1.2.0",
      "model_name": "LayoutModel",
      "state": {}
     },
     "d66cb11b71f748d98e91d810c10c66c4": {
      "model_module": "@jupyter-widgets/base",
      "model_module_version": "1.2.0",
      "model_name": "LayoutModel",
      "state": {}
     },
     "d6b5283f6c5144df9c7256cac5fba327": {
      "model_module": "@jupyter-widgets/controls",
      "model_module_version": "1.5.0",
      "model_name": "IntSliderModel",
      "state": {
       "description": "\\lambda (cm)",
       "layout": "IPY_MODEL_6fe0db07bf674245a6b96ea207874a61",
       "max": 20,
       "min": 5,
       "style": "IPY_MODEL_51cc09e6ee0d4fb3b1d50aa516cf66dd",
       "value": 10
      }
     },
     "d74399a428fd447196e4becf13678eaa": {
      "model_module": "@jupyter-widgets/controls",
      "model_module_version": "1.5.0",
      "model_name": "SliderStyleModel",
      "state": {
       "description_width": ""
      }
     },
     "d86bfe5d98bf4cb4ba3602adbe0987df": {
      "model_module": "@jupyter-widgets/controls",
      "model_module_version": "1.5.0",
      "model_name": "SliderStyleModel",
      "state": {
       "description_width": ""
      }
     },
     "da263f2e10ff44aca257dc3b40e8b510": {
      "model_module": "@jupyter-widgets/base",
      "model_module_version": "1.2.0",
      "model_name": "LayoutModel",
      "state": {}
     },
     "db898f303bd14b94b4b439d9f23f6da5": {
      "model_module": "@jupyter-widgets/base",
      "model_module_version": "1.2.0",
      "model_name": "LayoutModel",
      "state": {}
     },
     "dffb9dc68dc94e4eaafc4a87e38d4994": {
      "model_module": "@jupyter-widgets/controls",
      "model_module_version": "1.5.0",
      "model_name": "SliderStyleModel",
      "state": {
       "description_width": ""
      }
     },
     "e70fe32d0d0e48f698ca995566bdf691": {
      "model_module": "@jupyter-widgets/controls",
      "model_module_version": "1.5.0",
      "model_name": "FloatSliderModel",
      "state": {
       "description": "amp ()",
       "layout": "IPY_MODEL_92e64adac7d749429f881072d7e54ab0",
       "max": 1,
       "step": 0.1,
       "style": "IPY_MODEL_6647b2f57a174966be8b528218590b2a",
       "value": 0.5
      }
     },
     "eac2547b4ed94980b28f6a6dd519a085": {
      "model_module": "@jupyter-widgets/controls",
      "model_module_version": "1.5.0",
      "model_name": "SliderStyleModel",
      "state": {
       "description_width": ""
      }
     },
     "f0420885422e42849c2c53cd1d55b7ea": {
      "model_module": "@jupyter-widgets/base",
      "model_module_version": "1.2.0",
      "model_name": "LayoutModel",
      "state": {}
     },
     "f6eca51ca4cc4f81aca366f2268fbef2": {
      "model_module": "@jupyter-widgets/base",
      "model_module_version": "1.2.0",
      "model_name": "LayoutModel",
      "state": {}
     },
     "fad05a599481468089eefc4624113e3a": {
      "model_module": "@jupyter-widgets/base",
      "model_module_version": "1.2.0",
      "model_name": "LayoutModel",
      "state": {}
     },
     "fdd1ef4703d8429aacc88eaf8b538b4f": {
      "model_module": "@jupyter-widgets/controls",
      "model_module_version": "1.5.0",
      "model_name": "VBoxModel",
      "state": {
       "_dom_classes": [
        "widget-interact"
       ],
       "children": [
        "IPY_MODEL_fe82d8e938ca45ca850f06373fb6b8de",
        "IPY_MODEL_e70fe32d0d0e48f698ca995566bdf691",
        "IPY_MODEL_c1201b566e2045599f14e7bc422f84f6",
        "IPY_MODEL_a47d8e8aa9a34466987fdba6ee63d71b",
        "IPY_MODEL_652d1b3b639c4deca9505a8c8d02e63c"
       ],
       "layout": "IPY_MODEL_db898f303bd14b94b4b439d9f23f6da5"
      }
     },
     "fe82d8e938ca45ca850f06373fb6b8de": {
      "model_module": "@jupyter-widgets/controls",
      "model_module_version": "1.5.0",
      "model_name": "IntSliderModel",
      "state": {
       "description": "\\lambda (cm)",
       "layout": "IPY_MODEL_33174451b1864eaf90685aa6a43f78fd",
       "max": 20,
       "min": 5,
       "style": "IPY_MODEL_8cc0158e38d6408991bf40df4794f22e",
       "value": 10
      }
     }
    },
    "version_major": 2,
    "version_minor": 0
   }
  }
 },
 "nbformat": 4,
 "nbformat_minor": 2
}
