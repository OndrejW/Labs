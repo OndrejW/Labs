{
 "cells": [
  {
   "cell_type": "code",
   "execution_count": 7,
   "metadata": {},
   "outputs": [
    {
     "data": {
      "text/html": [
       "<script>\n",
       "    // AUTORUN ALL CELLS ON NOTEBOOK-LOAD!\n",
       "    require(\n",
       "        ['base/js/namespace', 'jquery'], \n",
       "        function(jupyter, $) {\n",
       "            $(jupyter.events).on(\"kernel_ready.Kernel\", function () {\n",
       "                console.log(\"Auto-running all cells-below...\");\n",
       "                jupyter.actions.call('jupyter-notebook:run-all-cells-below');\n",
       "                jupyter.actions.call('jupyter-notebook:save-notebook');\n",
       "            });\n",
       "        }\n",
       "    );\n",
       "</script>\n"
      ],
      "text/plain": [
       "<IPython.core.display.HTML object>"
      ]
     },
     "metadata": {},
     "output_type": "display_data"
    }
   ],
   "source": [
    "%%html\n",
    "<script>\n",
    "    // AUTORUN ALL CELLS ON NOTEBOOK-LOAD!\n",
    "    require(\n",
    "        ['base/js/namespace', 'jquery'], \n",
    "        function(jupyter, $) {\n",
    "            $(jupyter.events).on(\"kernel_ready.Kernel\", function () {\n",
    "                console.log(\"Auto-running all cells-below...\");\n",
    "                jupyter.actions.call('jupyter-notebook:run-all-cells-below');\n",
    "                jupyter.actions.call('jupyter-notebook:save-notebook');\n",
    "            });\n",
    "        }\n",
    "    );\n",
    "</script>"
   ]
  },
  {
   "cell_type": "markdown",
   "metadata": {},
   "source": [
    "# Měření rychlosti světla s pomocí tabulky čokolády a mikrovlnky\n",
    "\n",
    "Značnou část fyziky lze popsat pomocí tří teorií: gravitace, kvantové a relativity. Každá z těchto má jednu ústřední konstantu a to gravitační, Planckovu a rychlost světla. První jmenovanou můžeme snadno vypočíst při znalosti hmotnosti země a měření zrychlení předmětů ve volném pádu. Díky tomu že známe velikost Planckovy konstanty, můžete například číst tento text, nebo rozsvítit bodové LED. V tomto cvičení budeme ovšem měřit poslední konstantu a to rychlost světla.\n",
    "\n",
    "## Vlna\n",
    "Vlnou ve fyzice nazýváme jakékoliv řešení následující diferenciální rovnice:\n",
    "\n",
    "$\\frac{1}{c^2}\\frac{\\partial^2\\psi}{\\partial t^2}=\\frac{\\partial^2\\psi}{\\partial x^2}$\n",
    "\n",
    "V případě elektro-magnetismu můžeme tuto rovnici odvodit z tzv. Maxwellových rovnic (např. [zde](https://en.wikipedia.org/wiki/Electromagnetic_wave_equation))\n",
    "\n",
    "Nejčastěji se setkáváme s řešením ve formě takzvané harmonické vlny.\n",
    "\n",
    "$\\psi = A \\exp{ i (\\vec{k} \\vec{r} + \\omega  t + \\phi_0)}$\n",
    "\n",
    "Můžeme si všimnout, že tato rovnice má komplexní tvar. Když chceme vypočítat měřitelnou veličinu (intenzitu) musíme vzít absolutní hodnotu, kterou v případě komplexních čísel vypočítáme následovně\n",
    "\n",
    "$I = \\psi \\psi^*$,\n",
    "\n",
    "kde $^*$ značí komplexně sdružené číslo.\n",
    "\n",
    "### Frekvence a vlnová délka\n",
    "Tyto dvě veličiny jsou pevně svázané takzvanou disperzní relací. V případě elektromagnetické vlny ve vakuu je disperzní relace lineární (vůči vlnovému číslu, reciproká vůči vlnové délke). Její sklon je určen rychlostí vlny. V případě těchto vln hovoříme o tzv. rychlosti světla. Pokud předchozí věty vyjádříme matematicky dostaneme\n",
    "\n",
    "$f = \\frac{c}{\\lambda}$,\n",
    "\n",
    "kde $c$ označuje právě rychlost vlnění, a $\\lambda$ je daná vlnová délka."
   ]
  },
  {
   "cell_type": "code",
   "execution_count": 2,
   "metadata": {},
   "outputs": [
    {
     "data": {
      "image/png": "[encoded data removed]",
      "text/plain": [
       "<Figure size 432x288 with 1 Axes>"
      ]
     },
     "metadata": {
      "needs_background": "light"
     },
     "output_type": "display_data"
    }
   ],
   "source": [
    "    import matplotlib.pyplot as plt\n",
    "    plt.rcParams.update({'font.size': 12})\n",
    "    import numpy as np\n",
    "\n",
    "    lambda1 = np.logspace(-7,10,200)\n",
    "    c = 299792458 #m/s\n",
    "    plt.loglog(lambda1, c/lambda1);\n",
    "    plt.xlabel('lambda (m)');\n",
    "    plt.ylabel('Frekvence (Hz)');\n",
    "    plt.show()"
   ]
  },
  {
   "cell_type": "markdown",
   "metadata": {},
   "source": [
    "## Součet dvou vln\n",
    "Teorie šíření elektromagnetických vln je lineární, z čehož plyne, že když se v prostředí šíří více než jedna vlna tak platí princip superpozice. Tento fakt znamená, že abychom našli výslednou intenzitu, musíme sečíst příspěvky od všech vln, které v tomto místě mají nenulovou amplitudu. Následující applet počítá intenzitu vzniklou sečtením dvou protichůdných vln. Prosím vyzkoušejte si jak změna jednotlivých parametrů ovlivní výslednou intenzitu a její chování v čase."
   ]
  },
  {
   "cell_type": "code",
   "execution_count": 3,
   "metadata": {
    "scrolled": false
   },
   "outputs": [
    {
     "data": {
      "application/vnd.jupyter.widget-view+json": {
       "model_id": "e7ce5f8811264ec0a6f269a3e08b0154",
       "version_major": 2,
       "version_minor": 0
      },
      "text/plain": [
       "interactive(children=(IntSlider(value=10, description='lambda1 (cm)', max=20, min=5), FloatSlider(value=0.5, d…"
      ]
     },
     "metadata": {},
     "output_type": "display_data"
    }
   ],
   "source": [
    "from __future__ import print_function\n",
    "from ipywidgets import interact, interactive, fixed, interact_manual\n",
    "import ipywidgets as widgets\n",
    "\n",
    "@interact(lambda1=widgets.IntSlider(min=5, max=20, step=1, value=10, description='lambda1 (cm)'), amp1=widgets.FloatSlider(min=0, max=1, step=0.1, value=0.5, description='amp ()'), phi1=widgets.FloatSlider(min=0, max=2*np.pi, step=0.2, value=0, description='Faze1 (rad)'), lambda2=widgets.FloatSlider(min=5, max=20, step=1, value=10, description='lambda2 (cm)'), amp2=widgets.FloatSlider(min=0, max=1, step=0.1, value=0.5, description='amp2 ()'), cas=widgets.FloatSlider(min=0, max=10, step=0.5, value=0, description='Cas (us)'))\n",
    "def intensity(lambda1, amp1, phi1, lambda2, amp2, cas):\n",
    "    lambda1 = lambda1*1e-2\n",
    "    lambda2 = lambda2*1e-2\n",
    "    phi2 = 0\n",
    "    delka = 0.5\n",
    "    cas = cas*1e-6\n",
    "    x = np.linspace(0,delka,200)\n",
    "    c = 299792458  #m/s\n",
    "    w1 = 2*np.pi*c/lambda1\n",
    "    print('Frekvence vlny 1 je: % 3.2f GHz' %(w1*1e-9/2/np.pi))\n",
    "    w2 = 2*np.pi*c/lambda2\n",
    "    print('Frekvence vlny 2 je: % 3.2f GHz' %(w2*1e-9/2/np.pi))\n",
    "    Psi1 = amp1*np.exp(1j*(2*np.pi/lambda1*x + w1*cas + phi1))\n",
    "    Psi2 = amp2*np.exp(1j*(2*np.pi/lambda2*(-x) + w2*cas + phi2))\n",
    "    plt.plot(x, abs(((Psi1 + Psi2)*np.conj(Psi1 + Psi2))))\n",
    "    plt.xlabel('x (m)');\n",
    "    plt.ylabel('Intenzita ()');\n",
    "    plt.show()\n",
    "    return();"
   ]
  },
  {
   "cell_type": "markdown",
   "metadata": {},
   "source": [
    "## Stojaté vlnění\n",
    "Možná jste si všimli, že pokud zvolíme stejnou vlnovou délku pro obě vlny ($\\lambda_1 = \\lambda_2$), intenzita se v čase nemění. Přesně tato podmínka je splněna, např. v mikrovlnné troubě. Následující applet dovoluje pouze měnit ty parametry, aby stále byla zachována podmínka pro stojaté vlnění."
   ]
  },
  {
   "cell_type": "code",
   "execution_count": 4,
   "metadata": {},
   "outputs": [
    {
     "data": {
      "application/vnd.jupyter.widget-view+json": {
       "model_id": "f96fecb1f838490f9c7c90088f7cbbf1",
       "version_major": 2,
       "version_minor": 0
      },
      "text/plain": [
       "interactive(children=(IntSlider(value=10, description='\\\\lambda (cm)', max=20, min=5), FloatSlider(value=0.5, …"
      ]
     },
     "metadata": {},
     "output_type": "display_data"
    }
   ],
   "source": [
    "@interact(lambda1=widgets.IntSlider(min=5, max=20, step=1, value=10, description='\\lambda (cm)'), amp=widgets.FloatSlider(min=0, max=1, step=0.1, value=0.5, description='amp ()'), phi=widgets.FloatSlider(min=0, max=2*np.pi, step=0.2, value=0, description='Faze (rad)'), cas=widgets.FloatSlider(min=0, max=10, step=0.5, value=0, description='Cas (us)'))\n",
    "def intensity(lambda1, amp, phi, cas):\n",
    "    lambda1 = lambda1*1e-2\n",
    "    delka = 0.5\n",
    "    cas = cas*1e-6\n",
    "    x = np.linspace(0,delka,200)\n",
    "    c = 299792458  #m/s\n",
    "    w1 = 2*np.pi*c/lambda1\n",
    "    print('Frekvence vlny je: % 3.2f GHz' %(w1*1e-9/2/np.pi))\n",
    "    w2 = 2*np.pi*c/lambda1\n",
    "    Psi1 = amp*np.exp(1j*(2*np.pi/lambda1*x + w1*cas + phi))\n",
    "    Psi2 = amp*np.exp(1j*(2*np.pi/lambda1*(-x) + w2*cas))\n",
    "    plt.plot(x, abs(((Psi1 + Psi2)*np.conj(Psi1 + Psi2))));\n",
    "    plt.xlabel('x (m)');\n",
    "    plt.ylabel('Intenzita ()');\n",
    "    plt.show();\n",
    "    return();"
   ]
  },
  {
   "cell_type": "markdown",
   "metadata": {},
   "source": [
    "Vidíme, že ikdyž měníme všechny ostatní parametry, tak vzdálenost mezi maximy intenzity zůstává stále konstantní. V těchto místech je i lokálně nejvyšší dodaná energie. Tohoto využijeme pro měření vlnové délky mikrovlného vlnění, protože jídlo (nebo v podstatě cokoliv co dáte do mikrovlnné trouby) se nejrychleji zahřeje právě v místech těchto kmiten (nejvyšší intenzity). Více o principu mikrovlnky je v následujícím videu."
   ]
  },
  {
   "cell_type": "code",
   "execution_count": 5,
   "metadata": {},
   "outputs": [
    {
     "data": {
      "image/jpeg": "[encoded data removed]",
      "text/html": [
       "\n",
       "        <iframe\n",
       "            width=\"400\"\n",
       "            height=\"300\"\n",
       "            src=\"https://www.youtube.com/embed/kp33ZprO0Ck\"\n",
       "            frameborder=\"0\"\n",
       "            allowfullscreen\n",
       "        ></iframe>\n",
       "        "
      ],
      "text/plain": [
       "<IPython.lib.display.YouTubeVideo at 0x7f686a739290>"
      ]
     },
     "execution_count": 5,
     "metadata": {},
     "output_type": "execute_result"
    }
   ],
   "source": [
    "from IPython.display import YouTubeVideo\n",
    "YouTubeVideo('kp33ZprO0Ck')"
   ]
  },
  {
   "cell_type": "markdown",
   "metadata": {},
   "source": [
    "# Zadání experimentu a postup\n",
    "\n",
    "## Zadání\n",
    "1. Využijte představené teorie a experimentálně nalezněte rychlost světla. \n",
    "2. Pořiďte fotografii talíře s čokoládou a pravítka těsně po ohřevu a vložte ji do protokolu.\n",
    "2. Porovnejte experimentálně získanou hodnotu se známou hodnotou rychlosti světla. \n",
    "3. Odhadněte původ chyby měření.\n",
    "\n",
    "### K provedení experimentu budeme potřebovat:\n",
    "- čokoláda ca. 30g,  bez příchutí (čím hořčejší, tím lepší -- zkuste v protokolu zdůvodnit, proč to tak je)\n",
    "- struhadlo\n",
    "- lžíce\n",
    "- talíř \n",
    "- mikrovlnnou troubu\n",
    "- návod od mikrovlnní trouby (někdy stačí i její štítek)\n",
    "- pravítko\n",
    "- stojan na čokoládu vhodný do mikrovlnné trouby\n",
    "\n",
    "**Varování: Ujistěte se pomocí návodu k obsluze mikrovlnky, že všechny předměty, které do mikrovlnky budete vkládat, v ní skutečně můžou být!**\n",
    "\n",
    "### Postup:\n",
    "1. V návodu mikrovlnné trouby nebo na jejím štítku nalezneme hodnotu její operační frekvence.\n",
    "2. Z mikrovlnné trouby vybereme moduly které umožňují otáčení jídla při ohřevu. Je-li to nemožné, ujistíme se, že máme možnost umístit talíř dovnitř mikrovlnky bez toho, aby se při ohřívání jakkoliv pohyboval.\n",
    "3. Čokoládu nastrouháme a co nejrovnoměji pomocí lžičky rozprostřeme po povrchu talíře.\n",
    "4. Umístíme talíř s čokoládou do mikrovlnky na nehybný stojan. \n",
    "5. Talíř s čokoládu na stojanu necháme ohřívat - pro 83% čokoládu jsme použili ohřívání s výkonem 700 W po dobu 30 s.\n",
    "6. Po ohřívání talíř s čokoládou vyndáme z mikrovlnky a na čokoládě určíme středy míst, kde se začala topit. Tyto místa budou odpovídat místům s nejvyšší dodanou energií. Fotografii talíře s pravítkem pořídíme co nejrychleji, jinak se může začat postupně topit i další okolí čokolády a výsledky budou zkreslené.\n",
    "\n",
    "*Tip: jestliže se experiment napoprvé nepodaří, zkuste změnit výšku, ve které se čokoláda nachází - nám nejlépe fungovalo umístit čokoládu výš než vlnovod, který přenáší vlny ze zdroje dovnitř mikrovlnky.*"
   ]
  }
 ],
 "metadata": {
  "kernelspec": {
   "display_name": "Python 3",
   "language": "python",
   "name": "python3"
  },
  "language_info": {
   "codemirror_mode": {
    "name": "ipython",
    "version": 3
   },
   "file_extension": ".py",
   "mimetype": "text/x-python",
   "name": "python",
   "nbconvert_exporter": "python",
   "pygments_lexer": "ipython3",
   "version": "3.7.8"
  }
 },
 "nbformat": 4,
 "nbformat_minor": 2
}
